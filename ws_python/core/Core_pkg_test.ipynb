{
 "cells": [
  {
   "cell_type": "markdown",
   "metadata": {},
   "source": [
    "### 패키지의 사용\n",
    "- 폴더안의 Python file 사용\n",
    "- 자식 폴더에 한해서 패키지로 인식됨."
   ]
  },
  {
   "cell_type": "code",
   "execution_count": 1,
   "metadata": {},
   "outputs": [],
   "source": [
    "import module.process.Core    # /module/process/Core.py, 전체 경로 명시"
   ]
  },
  {
   "cell_type": "code",
   "execution_count": 3,
   "metadata": {},
   "outputs": [
    {
     "name": "stdout",
     "output_type": "stream",
     "text": [
      "-> 원룸의 크기: 144 m2, 43.63636363636364 평\n"
     ]
    }
   ],
   "source": [
    "width = int(input(\"width: \"))\n",
    "height = int(input(\"height: \"))\n",
    "\n",
    "result = module.process.Core.oneroom(width, height)   # 전체 경로 명시\n",
    "print(f'-> 원룸의 크기: {result[0]} m2, {result[1]} 평')"
   ]
  },
  {
   "cell_type": "markdown",
   "metadata": {},
   "source": [
    "### 별명 명시"
   ]
  },
  {
   "cell_type": "code",
   "execution_count": 5,
   "metadata": {},
   "outputs": [],
   "source": [
    "import module.process.Core as core  # 별명 명시"
   ]
  },
  {
   "cell_type": "code",
   "execution_count": 6,
   "metadata": {},
   "outputs": [
    {
     "name": "stdout",
     "output_type": "stream",
     "text": [
      "-> 원룸의 크기: 24 m2, 7.272727272727273 평\n"
     ]
    }
   ],
   "source": [
    "width = int(input(\"width: \"))\n",
    "height = int(input(\"height: \"))\n",
    "\n",
    "result = core.oneroom(width, height)   # 별명\n",
    "print(f'-> 원룸의 크기: {result[0]} m2, {result[1]} 평')"
   ]
  },
  {
   "cell_type": "markdown",
   "metadata": {},
   "source": [
    "### 함수 import"
   ]
  },
  {
   "cell_type": "code",
   "execution_count": 8,
   "metadata": {},
   "outputs": [],
   "source": [
    "from module.process.Core import oneroom, calcija"
   ]
  },
  {
   "cell_type": "code",
   "execution_count": 9,
   "metadata": {},
   "outputs": [
    {
     "name": "stdout",
     "output_type": "stream",
     "text": [
      "-> 원룸의 크기: 100 m2, 30.303030303030305 평\n"
     ]
    }
   ],
   "source": [
    "width = int(input(\"width: \"))\n",
    "height = int(input(\"height: \"))\n",
    "\n",
    "result = oneroom(width, height)   # 별명\n",
    "print(f'-> 원룸의 크기: {result[0]} m2, {result[1]} 평')"
   ]
  },
  {
   "cell_type": "code",
   "execution_count": 12,
   "metadata": {},
   "outputs": [],
   "source": [
    "from module.process.Core import *   # 모든 함수"
   ]
  },
  {
   "cell_type": "code",
   "execution_count": 13,
   "metadata": {},
   "outputs": [
    {
     "name": "stdout",
     "output_type": "stream",
     "text": [
      "원금: 10,000,000 원\n",
      "년이자: 200,000 원\n",
      "월이자: 16,666 원\n",
      "오늘이자: 547 원\n",
      "세후이자: 470 원\n"
     ]
    }
   ],
   "source": [
    "wonkum = int(input(\"원금: \"))\n",
    "\n",
    "result = calcija(wonkum)\n",
    "print(f\"원금: {format(wonkum, ',')} 원\")\n",
    "print(f'년이자: {format(result[0], \",\")} 원')\n",
    "print(f'월이자: {format(result[1], \",\")} 원')\n",
    "print(f'오늘이자: {format(result[2], \",\")} 원')\n",
    "print(f'세후이자: {format(result[3], \",\")} 원')"
   ]
  }
 ],
 "metadata": {
  "kernelspec": {
   "display_name": "ai10",
   "language": "python",
   "name": "python3"
  },
  "language_info": {
   "codemirror_mode": {
    "name": "ipython",
    "version": 3
   },
   "file_extension": ".py",
   "mimetype": "text/x-python",
   "name": "python",
   "nbconvert_exporter": "python",
   "pygments_lexer": "ipython3",
   "version": "3.10.16"
  }
 },
 "nbformat": 4,
 "nbformat_minor": 2
}
