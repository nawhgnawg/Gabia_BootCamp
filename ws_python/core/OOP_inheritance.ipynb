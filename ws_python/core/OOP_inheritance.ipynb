{
 "cells": [
  {
   "cell_type": "markdown",
   "metadata": {},
   "source": [
    "### 상속\n",
    "#### 시간이 흐르면서 새로운 기능이 추가되며 부모 기능을 상속하는 경우"
   ]
  },
  {
   "cell_type": "code",
   "execution_count": 1,
   "metadata": {},
   "outputs": [],
   "source": [
    "from IPython.core.interactiveshell import InteractiveShell\n",
    "InteractiveShell.ast_node_interactivity=\"all\""
   ]
  },
  {
   "cell_type": "code",
   "execution_count": 7,
   "metadata": {},
   "outputs": [
    {
     "name": "stdout",
     "output_type": "stream",
     "text": [
      "전화 기능: 모토롤라\n",
      "문자 기능: 모토롤라\n"
     ]
    }
   ],
   "source": [
    "class Phone:\n",
    "    def __init__(self):\n",
    "        self.phone_name=\"모토롤라\"\n",
    "\n",
    "    def tel(self):\n",
    "        print(f'전화 기능: {self.phone_name}')\n",
    "\n",
    "    def sms(self):\n",
    "        print(f'문자 기능: {self.phone_name}')\n",
    "\n",
    "phone = Phone() # 객체 생성\n",
    "phone.tel()     # 메서드 호출\n",
    "phone.sms()     # 메서드 호출"
   ]
  },
  {
   "cell_type": "code",
   "execution_count": 18,
   "metadata": {},
   "outputs": [
    {
     "name": "stdout",
     "output_type": "stream",
     "text": [
      "전화 기능: 모토롤라\n",
      "문자 기능: 모토롤라\n",
      "------------------------------\n",
      "<class '__main__.Phone'>\n",
      "True\n",
      "False\n",
      "True\n",
      "True\n"
     ]
    }
   ],
   "source": [
    "# object는 상속의 개념, 데이터를 전달받는 개념이 아님\n",
    "class Phone(object): # object class 상속받음, 생략하면 기본적으로 상속됨\n",
    "    def __init__(self):\n",
    "        # self.phone_name=\"모토롤라\" # 상속 안됨\n",
    "        self.name=\"모토롤라\"\n",
    "\n",
    "    def tel(self):\n",
    "        print(f'전화 기능: {self.name}')\n",
    "\n",
    "    def sms(self):\n",
    "        print(f'문자 기능: {self.name}')\n",
    "\n",
    "phone = Phone() # 객체 생성\n",
    "phone.tel()     # 메서드 호출\n",
    "phone.sms()     # 메서드 호출\n",
    "\n",
    "print('-' * 30)\n",
    "\n",
    "print(type(phone))\n",
    "print(type(phone) is Phone) # 객체 클래스 타입 검사\n",
    "print(type(phone) is object) # 객체 클래스 타입 검사, 상속은 확인이 안됨, JAVA: true\n",
    "print(isinstance(phone, Phone)) # 객체 클래스 타입 검사\n",
    "print(isinstance(phone, object)) # 객체 클래스 타입 검사, 조상 타입에 속하는지 검사"
   ]
  },
  {
   "cell_type": "code",
   "execution_count": 21,
   "metadata": {},
   "outputs": [
    {
     "name": "stdout",
     "output_type": "stream",
     "text": [
      "전화 기능: Samsung\n",
      "문자 기능: Samsung\n",
      "멀티미디어 기능: Samsung\n",
      "메모장 기능: Samsung\n"
     ]
    }
   ],
   "source": [
    "class PDA(Phone): # Phone 클래스에서 tel(), sms()를 상속 받음.\n",
    "    def __init__(self):\n",
    "        self.name=\"Samsung\"     # 변수는 상속 안됨\n",
    "\n",
    "    def mms(self):\n",
    "        print(f'멀티미디어 기능: {self.name}')\n",
    "\n",
    "    def memo(self):\n",
    "        print(f'메모장 기능: {self.name}')\n",
    "\n",
    "pda = PDA()\n",
    "\n",
    "pda.tel()   # 상속으로 Phone의 메서드도 사용 가능, self.name = \"Samsung\" 을 가짐\n",
    "pda.sms()\n",
    "\n",
    "pda.mms()\n",
    "pda.memo()"
   ]
  },
  {
   "cell_type": "code",
   "execution_count": 23,
   "metadata": {},
   "outputs": [
    {
     "name": "stdout",
     "output_type": "stream",
     "text": [
      "전화 기능: Android\n",
      "문자 기능: Android\n",
      "멀티미디어 기능: Android\n",
      "메모장 기능: Android\n",
      "인터넷 기능: Android\n"
     ]
    }
   ],
   "source": [
    "class Smart(PDA):\n",
    "    def __init__(self):\n",
    "        self.name='Android'\n",
    "\n",
    "    def internet(self):\n",
    "        print(f'인터넷 기능: {self.name}')\n",
    "\n",
    "smart = Smart()\n",
    "\n",
    "smart.tel()      # 상속\n",
    "smart.sms()      # 상속\n",
    "\n",
    "smart.mms()      # 상속\n",
    "smart.memo()     # 상속\n",
    "\n",
    "smart.internet() # 상속"
   ]
  },
  {
   "cell_type": "code",
   "execution_count": 25,
   "metadata": {},
   "outputs": [
    {
     "name": "stdout",
     "output_type": "stream",
     "text": [
      "전화 기능: AI\n",
      "문자 기능: AI\n",
      "멀티미디어 기능: AI\n",
      "메모장 기능: AI\n",
      "인터넷 기능: AI\n",
      "LLM 기능: AI\n"
     ]
    }
   ],
   "source": [
    "class AI(Smart):\n",
    "    def __init__(self):\n",
    "        self.name = 'AI'\n",
    "\n",
    "    def llm(self):\n",
    "        print(f'LLM 기능: {self.name}')\n",
    "\n",
    "ai = AI()\n",
    "\n",
    "ai.tel()      # 상속\n",
    "ai.sms()      # 상속\n",
    "\n",
    "ai.mms()      # 상속\n",
    "ai.memo()     # 상속\n",
    "\n",
    "ai.internet() # 상속\n",
    "\n",
    "ai.llm()      # 상속"
   ]
  },
  {
   "cell_type": "code",
   "execution_count": null,
   "metadata": {},
   "outputs": [
    {
     "name": "stdout",
     "output_type": "stream",
     "text": [
      "True\n",
      "True\n",
      "True\n",
      "True\n"
     ]
    }
   ],
   "source": [
    "# 다형성(Polymorphism)은 상속으로 표현 가능\n",
    "print(isinstance(ai, object))   # ai 객체는 object class의 객체이다.\n",
    "print(isinstance(ai, Phone))    # ai 객체는 Phone class의 객체이다.\n",
    "print(isinstance(ai, PDA))      # ai 객체는 PDA class의 객체이다.\n",
    "print(isinstance(ai, Smart))    # ai 객체는 Smart class의 객체이다.\n",
    "print(isinstance(ai, AI))       # ai 객체는 AI class의 객체이다."
   ]
  },
  {
   "cell_type": "markdown",
   "metadata": {},
   "source": [
    "#### 공통 기능을 공유하며 다양한 유형으로 기능이 분류되는 경우의 상속"
   ]
  },
  {
   "cell_type": "code",
   "execution_count": 27,
   "metadata": {},
   "outputs": [],
   "source": [
    "class Payment:\n",
    "    def __init__(self): # 생성자, constructor\n",
    "        self.menu = '' # 인스턴스 변수, 필드, 프로퍼티, 속성\n",
    "        self.price = 0\n",
    "        self.count = 0\n",
    "\n",
    "    def order(self, menu, price, count): # 주문\n",
    "        self.menu = menu \n",
    "        self.price = price\n",
    "        self.count = count    \n",
    "    \n",
    "    def calc(self): # 메소드, 계산\n",
    "        self.total = self.price * self.count\n",
    "        print()\n",
    "        print('      주문 내역       ')\n",
    "        print('---------------------')\n",
    "        print('메뉴: ' + self.menu)\n",
    "        print('가격: ' + format(self.price, ',') + ' 원')\n",
    "        print('수량: ' + str(self.count))\n",
    "        print('합계: ' + format(self.total, ',') + ' 원')\n",
    "        print('---------------------')"
   ]
  },
  {
   "cell_type": "code",
   "execution_count": 29,
   "metadata": {},
   "outputs": [],
   "source": [
    "class Cash(Payment): # order, calc 상속\n",
    "    def payment(self):\n",
    "        print('현금 결재')\n",
    "\n",
    "class Card(Payment): # order, calc 상속\n",
    "    def payment(self):\n",
    "        print('카드 결재')\n",
    "\n",
    "class Mobile(Payment): # order, calc 상속\n",
    "    def payment(self):\n",
    "        print('모바일 결재')\n",
    "\n",
    "class Point(Payment): # order, calc 상속\n",
    "    def payment(self):\n",
    "        print('포인트 결재')"
   ]
  },
  {
   "cell_type": "code",
   "execution_count": 33,
   "metadata": {},
   "outputs": [
    {
     "name": "stdout",
     "output_type": "stream",
     "text": [
      "\n",
      "      주문 내역       \n",
      "---------------------\n",
      "메뉴: 짜장면\n",
      "가격: 7,000 원\n",
      "수량: 2\n",
      "합계: 14,000 원\n",
      "---------------------\n",
      "현금 결재\n"
     ]
    }
   ],
   "source": [
    "# 주문 내역       <- Cash class, input 사용 X\n",
    "# ---------------------\n",
    "# 메뉴: 짜장면\n",
    "# 가격: 6,000 원\n",
    "# 수량: 2\n",
    "# 합계: 12,000 원\n",
    "# ---------------------\n",
    "# 현금 결재\n",
    "\n",
    "cash = Cash()\n",
    "\n",
    "cash.order(\"짜장면\", 7000, 2)\n",
    "cash.calc()\n",
    "\n",
    "cash.payment()"
   ]
  },
  {
   "cell_type": "code",
   "execution_count": 34,
   "metadata": {},
   "outputs": [
    {
     "name": "stdout",
     "output_type": "stream",
     "text": [
      "\n",
      "      주문 내역       \n",
      "---------------------\n",
      "메뉴: 김밥\n",
      "가격: 3,500 원\n",
      "수량: 3\n",
      "합계: 10,500 원\n",
      "---------------------\n",
      "카드 결재\n"
     ]
    }
   ],
   "source": [
    "# 주문 내역       \n",
    "# ---------------------\n",
    "# 메뉴: 김밥\n",
    "# 가격: 3,500 원\n",
    "# 수량: 3\n",
    "# 합계: 10,500 원\n",
    "# ---------------------\n",
    "# 카드 결재\n",
    "\n",
    "card = Card()\n",
    "\n",
    "card.order(\"김밥\", 3500, 3)\n",
    "card.calc()\n",
    "\n",
    "card.payment()"
   ]
  },
  {
   "cell_type": "code",
   "execution_count": 35,
   "metadata": {},
   "outputs": [
    {
     "name": "stdout",
     "output_type": "stream",
     "text": [
      "\n",
      "      주문 내역       \n",
      "---------------------\n",
      "메뉴: 아메리카노\n",
      "가격: 3,000 원\n",
      "수량: 2\n",
      "합계: 6,000 원\n",
      "---------------------\n",
      "모바일 결재\n"
     ]
    }
   ],
   "source": [
    "# 주문 내역       \n",
    "# ---------------------\n",
    "# 메뉴: 아메리카노\n",
    "# 가격: 3,000 원\n",
    "# 수량: 2\n",
    "# 합계: 6,000 원\n",
    "# ---------------------\n",
    "# 모바일 결재\n",
    "\n",
    "mobile = Mobile()\n",
    "\n",
    "mobile.order(\"아메리카노\", 3000, 2)\n",
    "mobile.calc()\n",
    "\n",
    "mobile.payment()"
   ]
  },
  {
   "cell_type": "markdown",
   "metadata": {},
   "source": [
    "### 다중 상속"
   ]
  },
  {
   "cell_type": "code",
   "execution_count": 37,
   "metadata": {},
   "outputs": [],
   "source": [
    "# class AI(Phone, PDA, Smart):\n",
    "#     def __init__(self):\n",
    "#         self.name='인공지능'\n",
    "\n",
    "#     def ai(self):\n",
    "#         print(f'실시간 번역 기능: {self.name}')\n",
    "\n",
    "# TypeError: Cannot create a consistent method resolution order (MRO) for bases Phone, PDA, Smart\n",
    "# 다중 상속에 포함되는 클래스는 서로 상속을 선언하면 안됨 "
   ]
  },
  {
   "cell_type": "code",
   "execution_count": 40,
   "metadata": {},
   "outputs": [],
   "source": [
    "# Phone, PDA, Smart 상속 관계 해제\n",
    "class Phone:\n",
    "    def __init__(self):\n",
    "        self.name=\"모토롤라\"\n",
    "\n",
    "    def tel(self):\n",
    "        print(f'전화 기능: {self.name}')\n",
    "\n",
    "    def sms(self):\n",
    "        print(f'문자 기능: {self.name}')\n",
    "\n",
    "class PDA: # Phone 클래스에서 tel(), sms()를 상속 받음.\n",
    "    def __init__(self):\n",
    "        self.name=\"Samsung\"\n",
    "\n",
    "    def mms(self):\n",
    "        print(f'멀티미디어 기능: {self.name}')\n",
    "\n",
    "    def memo(self):\n",
    "        print(f'메모장 기능: {self.name}')\n",
    "\n",
    "class Smart:\n",
    "    def __init__(self):\n",
    "        self.name='Android'\n",
    "\n",
    "    def internet(self):\n",
    "        print(f'인터넷 기능: {self.name}')"
   ]
  },
  {
   "cell_type": "code",
   "execution_count": null,
   "metadata": {},
   "outputs": [],
   "source": [
    "class AI(Phone, PDA, Smart):    # Phone, PDA, Smart는 서로 상속이 안되는 경우임.\n",
    "    def __init__(self):\n",
    "        self.name='인공지능'\n",
    "\n",
    "    def ai(self):\n",
    "        print(f'실시간 번역 기능: {self.name}')"
   ]
  },
  {
   "cell_type": "code",
   "execution_count": 45,
   "metadata": {},
   "outputs": [
    {
     "name": "stdout",
     "output_type": "stream",
     "text": [
      "전화 기능: 인공지능\n",
      "문자 기능: 인공지능\n",
      "멀티미디어 기능: 인공지능\n",
      "메모장 기능: 인공지능\n",
      "인터넷 기능: 인공지능\n",
      "실시간 번역 기능: 인공지능\n"
     ]
    }
   ],
   "source": [
    "ai = AI()\n",
    "ai.tel()  # 상속\n",
    "ai.sms()  # 상속\n",
    "ai.mms()  # 상속\n",
    "ai.memo() # 상속\n",
    "ai.internet() # 상속\n",
    "ai.ai()"
   ]
  }
 ],
 "metadata": {
  "kernelspec": {
   "display_name": "ai10",
   "language": "python",
   "name": "python3"
  },
  "language_info": {
   "codemirror_mode": {
    "name": "ipython",
    "version": 3
   },
   "file_extension": ".py",
   "mimetype": "text/x-python",
   "name": "python",
   "nbconvert_exporter": "python",
   "pygments_lexer": "ipython3",
   "version": "3.10.16"
  }
 },
 "nbformat": 4,
 "nbformat_minor": 2
}
