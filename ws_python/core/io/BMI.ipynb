{
 "cells": [
  {
   "cell_type": "markdown",
   "metadata": {},
   "source": [
    "### 파일 입출력"
   ]
  },
  {
   "cell_type": "code",
   "execution_count": null,
   "metadata": {},
   "outputs": [],
   "source": [
    "import os\n",
    "\n",
    "import platform\n",
    "\n",
    "# Windows, Linux, Darwin\n",
    "if (platform.system() == 'Linux' or platform.system() == 'Darwin'):\n",
    "    path = '.' # Local\n",
    "else:\n",
    "    path = '/content/drive/MyDrive/kd_ml/core/io' # Colab\n",
    "\n",
    "os.chdir(path) # 기본 경로 설정"
   ]
  },
  {
   "cell_type": "code",
   "execution_count": 5,
   "metadata": {},
   "outputs": [
    {
     "name": "stdout",
     "output_type": "stream",
     "text": [
      "/Users/imgwanghwan/ws_python/core/io\n"
     ]
    }
   ],
   "source": [
    "print(os.getcwd())"
   ]
  },
  {
   "cell_type": "code",
   "execution_count": 26,
   "metadata": {},
   "outputs": [
    {
     "name": "stdout",
     "output_type": "stream",
     "text": [
      "2025.02.17 몸무게: 73 kg, 키: 167 cm, BMI: 26.18, 판정: 비만\n",
      "2025.02.17 몸무게: 72 kg, 키: 167 cm, BMI: 25.82, 판정: 비만\n",
      "2025.02.17 몸무게: 71 kg, 키: 167 cm, BMI: 25.46, 판정: 비만\n",
      "2025.02.17 몸무게: 70 kg, 키: 167 cm, BMI: 25.10, 판정: 비만\n",
      "2025.02.17 몸무게: 69 kg, 키: 167 cm, BMI: 24.74, 판정: 과체중\n",
      "2025.02.17 몸무게: 68 kg, 키: 167 cm, BMI: 24.38, 판정: 과체중\n",
      "2025.02.17 몸무게: 67 kg, 키: 167 cm, BMI: 24.02, 판정: 과체중\n",
      "2025.02.17 몸무게: 66 kg, 키: 167 cm, BMI: 23.67, 판정: 과체중\n",
      "2025.02.17 몸무게: 65 kg, 키: 167 cm, BMI: 23.31, 판정: 과체중\n",
      "2025.02.17 몸무게: 64 kg, 키: 167 cm, BMI: 22.95, 판정: 정상\n",
      "2025.02.17 몸무게: 63 kg, 키: 167 cm, BMI: 22.59, 판정: 정상\n",
      "2025.02.17 몸무게: 62 kg, 키: 167 cm, BMI: 22.23, 판정: 정상\n",
      "2025.02.17 몸무게: 61 kg, 키: 167 cm, BMI: 21.87, 판정: 정상\n",
      "2025.02.17 몸무게: 60 kg, 키: 167 cm, BMI: 21.51, 판정: 정상\n"
     ]
    }
   ],
   "source": [
    "import time\n",
    "\n",
    "# 파이썬에서 지원하는 글로벌 함수 open을 이용\n",
    "fr = open('./bmi.csv', 'r', encoding='utf-8')      # 파일 읽기 갹채 생성\n",
    "# print(type(fr)) # <class '_io.TextIOWrapper'>\n",
    "fw = open('./bmi_proc.csv', 'w', encoding='utf-8') # 파일 쓰기 객체 생성\n",
    "# print(type(fw)) # <class '_io.TextIOWrapper'>\n",
    "\n",
    "date=time.strftime('%Y.%m.%d', time.localtime())\n",
    "line=fr.readline()  # text 파일에서 하나의 라인을 읽음\n",
    "# print(line)\n",
    "# print(type(line))\n",
    "\n",
    "while True:\n",
    "  line = fr.readline()\n",
    "  # print(line, end='')\n",
    "\n",
    "  if line == '':  # 파일 종료 검사\n",
    "    break\n",
    "\n",
    "  values = line.split(',')  # ['72', '177\\n']\n",
    "  # print(values)\n",
    "  height = int(values[0])\n",
    "  weight = int(values[1])\n",
    "  bmi = (weight / (height * height)) * 10000\n",
    "  # print(bmi)\n",
    "  \n",
    "  if bmi < 18.5:\n",
    "    grade = '저체중'\n",
    "  elif bmi < 23:\n",
    "    grade = '정상'  \n",
    "  elif bmi < 25:\n",
    "    grade = '과체중'\n",
    "  else:\n",
    "    grade = '비만'\n",
    "    \n",
    "  print(f'{date} 몸무게: {weight} kg, 키: {height} cm, BMI: {bmi:.2f}, 판정: {grade}')\n",
    "  fw.write(f'{date} 몸무게: {weight} kg, 키: {height} cm, BMI: {bmi}, 판정: {grade}')\n",
    "\n",
    "fr.close()\n",
    "fw.close()"
   ]
  }
 ],
 "metadata": {
  "kernelspec": {
   "display_name": "ai10",
   "language": "python",
   "name": "python3"
  },
  "language_info": {
   "codemirror_mode": {
    "name": "ipython",
    "version": 3
   },
   "file_extension": ".py",
   "mimetype": "text/x-python",
   "name": "python",
   "nbconvert_exporter": "python",
   "pygments_lexer": "ipython3",
   "version": "3.10.16"
  }
 },
 "nbformat": 4,
 "nbformat_minor": 2
}
