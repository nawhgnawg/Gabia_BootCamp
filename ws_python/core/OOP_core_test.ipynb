{
 "cells": [
  {
   "cell_type": "markdown",
   "metadata": {},
   "source": [
    "### 모듈 사용"
   ]
  },
  {
   "cell_type": "code",
   "execution_count": null,
   "metadata": {},
   "outputs": [],
   "source": [
    "from IPython.core.interactiveshell import InteractiveShell\n",
    "InteractiveShell.ast_node_interactivity=\"all\""
   ]
  },
  {
   "cell_type": "code",
   "execution_count": 1,
   "metadata": {},
   "outputs": [],
   "source": [
    "import OOP_core   # OOP_core.py 모듈 import, Java와 다르게 class를 import 하는게 아님"
   ]
  },
  {
   "cell_type": "code",
   "execution_count": null,
   "metadata": {},
   "outputs": [
    {
     "name": "stdout",
     "output_type": "stream",
     "text": [
      "10\n",
      "4\n"
     ]
    }
   ],
   "source": [
    "# 클래스는 객체를 생성하여 사용\n",
    "# calc = Calc(7, 3)   # X\n",
    "calc = OOP_core.Calc(7, 3)\n",
    "print(calc.add())\n",
    "print(calc.sub())"
   ]
  },
  {
   "cell_type": "code",
   "execution_count": null,
   "metadata": {},
   "outputs": [
    {
     "name": "stdout",
     "output_type": "stream",
     "text": [
      "원룸의 크기: 18 m2, 5.454545454545455 평\n"
     ]
    }
   ],
   "source": [
    "import OOP_core as oop  # 모듈에 별명 지정\n",
    "\n",
    "width = int(input(\"원룸의 width를 입력하세요(m): \"))\n",
    "height = int(input(\"원룸의 height를 입력하세요(m): \"))\n",
    "\n",
    "calcRoom = oop.Calcroom(width, height) # 객체 생성\n",
    "jegob, pysu  = calcRoom.calcroom()     # 메서드 호출\n",
    "\n",
    "print(f'원룸의 크기: {jegob} m2, {pysu} 평')"
   ]
  },
  {
   "cell_type": "code",
   "execution_count": 10,
   "metadata": {},
   "outputs": [
    {
     "name": "stdout",
     "output_type": "stream",
     "text": [
      "BMI: 19.15\n",
      "원금: 300,000,000 원\n",
      "년이자: 6,000,000 원\n",
      "월이자: 500,000 원\n",
      "오늘이자: 16,438 원\n",
      "세후이자: 14,136 원\n"
     ]
    }
   ],
   "source": [
    "from OOP_core import Calcbmi, Toss  # 특정 클래스만 포함하여 import\n",
    "\n",
    "# Calcbmi\n",
    "height = int(input(\"키(신장, cm): \"))\n",
    "weight = int(input(\"몸무게(kg): \"))\n",
    "\n",
    "calcbmi = Calcbmi(weight, height)\n",
    "bmi = calcbmi.calcbmi()\n",
    "\n",
    "print(f'BMI: {bmi:.2f}')\n",
    "\n",
    "# Toss\n",
    "wonkum = 300000000\n",
    "\n",
    "toss = Toss(wonkum)\n",
    "\n",
    "ija, mon, day, receive = toss.calctoss()\n",
    "\n",
    "print(f'원금: {format(wonkum, \",\")} 원')\n",
    "print(f'년이자: {format(ija, \",\")} 원')\n",
    "print(f'월이자: {format(mon, \",\")} 원')\n",
    "print(f'오늘이자: {format(day, \",\")} 원')\n",
    "print(f'세후이자: {format(receive, \",\")} 원')"
   ]
  }
 ],
 "metadata": {
  "kernelspec": {
   "display_name": "ai10",
   "language": "python",
   "name": "python3"
  },
  "language_info": {
   "codemirror_mode": {
    "name": "ipython",
    "version": 3
   },
   "file_extension": ".py",
   "mimetype": "text/x-python",
   "name": "python",
   "nbconvert_exporter": "python",
   "pygments_lexer": "ipython3",
   "version": "3.10.16"
  }
 },
 "nbformat": 4,
 "nbformat_minor": 2
}
