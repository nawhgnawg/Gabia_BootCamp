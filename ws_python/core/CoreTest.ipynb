{
 "cells": [
  {
   "cell_type": "code",
   "execution_count": 4,
   "metadata": {},
   "outputs": [],
   "source": [
    "# import Core.ipynb # .ipynb 확장자는 import 할 수 없다. \n",
    "# import Core.py    # 파일자체를 가져오는 것도 안됨.\n",
    "import Core # Core.py를 실행함!, JAVA는 실행 안됨. -> 필요한 것만 써야한다.\n",
    "# __name__: import -> Core 모듈 이름\n",
    "# __name__: python Core.py __main__"
   ]
  },
  {
   "cell_type": "code",
   "execution_count": 12,
   "metadata": {},
   "outputs": [
    {
     "name": "stdout",
     "output_type": "stream",
     "text": [
      "15\n"
     ]
    }
   ],
   "source": [
    "data = [1, 2, 3, 4, 5]\n",
    "tot = Core.calc(data)\n",
    "print(tot)"
   ]
  },
  {
   "cell_type": "code",
   "execution_count": null,
   "metadata": {},
   "outputs": [
    {
     "name": "stdout",
     "output_type": "stream",
     "text": [
      "jegob: 100, pysu: 30.303030303030305\n"
     ]
    }
   ],
   "source": [
    "width = int(input(\"width: \"))\n",
    "height = int(input(\"height: \"))\n",
    "\n",
    "result = Core.oneroom(width, height)\n",
    "print(f'jegob: {result[0]}, pysu: {result[1]}')"
   ]
  },
  {
   "cell_type": "code",
   "execution_count": 18,
   "metadata": {},
   "outputs": [
    {
     "name": "stdout",
     "output_type": "stream",
     "text": [
      "BMI: 22.948115744558788\n"
     ]
    }
   ],
   "source": [
    "# 키(신장, cm): 167\n",
    "# 몸무게(kg): 64\n",
    "# BMI: 22.95\n",
    "\n",
    "cm = int(input(\"키(신장, cm): \"))\n",
    "kg = int(input(\"몸무게(kg): \"))\n",
    "\n",
    "bmi = Core.calcbmi(kg, cm)\n",
    "print(f'BMI: {bmi}')"
   ]
  },
  {
   "cell_type": "code",
   "execution_count": null,
   "metadata": {},
   "outputs": [
    {
     "name": "stdout",
     "output_type": "stream",
     "text": [
      "원금: 10,000,000 원\n",
      "년이자: 200,000 원\n",
      "월이자: 16,666 원\n",
      "오늘이자: 547 원\n",
      "세후이자: 470 원\n"
     ]
    }
   ],
   "source": [
    "wonkum = int(input(\"원금: \"))\n",
    "\n",
    "result = Core.calcija(wonkum)\n",
    "print(f\"원금: {format(wonkum, ',')} 원\")\n",
    "print(f'년이자: {format(result[0], \",\")} 원')\n",
    "print(f'월이자: {format(result[1], \",\")} 원')\n",
    "print(f'오늘이자: {format(result[2], \",\")} 원')\n",
    "print(f'세후이자: {format(result[3], \",\")} 원')"
   ]
  },
  {
   "cell_type": "code",
   "execution_count": 3,
   "metadata": {},
   "outputs": [
    {
     "name": "stdout",
     "output_type": "stream",
     "text": [
      "(10, 4, 21, 2.3, 2, 1)\n"
     ]
    }
   ],
   "source": [
    "num1 = int(input(\"num1를 입력해주세요: \"))\n",
    "num2 = int(input(\"num2를 입력해주세요: \"))\n",
    "\n",
    "print(Core.calc2(num1, num2))"
   ]
  },
  {
   "cell_type": "code",
   "execution_count": 3,
   "metadata": {},
   "outputs": [
    {
     "name": "stdout",
     "output_type": "stream",
     "text": [
      "python: 95\n",
      "java: 100\n",
      "알고리즘: 60\n",
      "평균: 85.0\n",
      "통과\n"
     ]
    }
   ],
   "source": [
    "import Core \n",
    "\n",
    "python = 95\n",
    "java = 100\n",
    "algorithm = 60\n",
    "\n",
    "result = Core.score(python, java, algorithm)\n",
    "\n",
    "print(f\"python: {result[0]}\")\n",
    "print(f\"java: {result[1]}\")\n",
    "print(f\"알고리즘: {result[2]}\")\n",
    "print(f\"평균: {result[3]}\")\n",
    "print(f\"{result[4]}\")"
   ]
  },
  {
   "cell_type": "code",
   "execution_count": 1,
   "metadata": {},
   "outputs": [
    {
     "name": "stdout",
     "output_type": "stream",
     "text": [
      "등급: A\n"
     ]
    }
   ],
   "source": [
    "import Core\n",
    "\n",
    "score = int(input(\"점수: \"))\n",
    "result = Core.calcGrade(score)\n",
    "\n",
    "print(f\"등급: {result}\")"
   ]
  },
  {
   "cell_type": "markdown",
   "metadata": {},
   "source": [
    "## 모듈에 별명 사용"
   ]
  },
  {
   "cell_type": "code",
   "execution_count": null,
   "metadata": {},
   "outputs": [
    {
     "name": "stdout",
     "output_type": "stream",
     "text": [
      "등급: A\n"
     ]
    }
   ],
   "source": [
    "import Core as core"
   ]
  },
  {
   "cell_type": "code",
   "execution_count": 6,
   "metadata": {},
   "outputs": [
    {
     "name": "stdout",
     "output_type": "stream",
     "text": [
      "등급: F\n"
     ]
    }
   ],
   "source": [
    "score = int(input(\"점수: \"))\n",
    "grade = core.calcGrade(score)\n",
    "print(f'등급: {grade}')"
   ]
  },
  {
   "cell_type": "markdown",
   "metadata": {},
   "source": [
    "### 함수 import "
   ]
  },
  {
   "cell_type": "code",
   "execution_count": 7,
   "metadata": {},
   "outputs": [],
   "source": [
    "from Core import oneroom, calcbmi"
   ]
  },
  {
   "cell_type": "code",
   "execution_count": 8,
   "metadata": {},
   "outputs": [
    {
     "name": "stdout",
     "output_type": "stream",
     "text": [
      "jegob: 100, pysu: 30.303030303030305\n"
     ]
    }
   ],
   "source": [
    "width = int(input(\"width: \"))\n",
    "height = int(input(\"height: \"))\n",
    "\n",
    "result = oneroom(width, height)\n",
    "print(f'jegob: {result[0]}, pysu: {result[1]}')"
   ]
  },
  {
   "cell_type": "code",
   "execution_count": 9,
   "metadata": {},
   "outputs": [
    {
     "name": "stdout",
     "output_type": "stream",
     "text": [
      "BMI: 24.02380867008498\n"
     ]
    }
   ],
   "source": [
    "cm = int(input(\"키(신장, cm): \"))\n",
    "kg = int(input(\"몸무게(kg): \"))\n",
    "\n",
    "bmi = calcbmi(kg, cm)\n",
    "print(f'BMI: {bmi}')"
   ]
  },
  {
   "cell_type": "code",
   "execution_count": null,
   "metadata": {},
   "outputs": [],
   "source": [
    "# 급여를 입력받아 4대 보험을 계산후 실수형액을 출력하는 코드를 제작하세요.\n",
    "# 산정 기준\n",
    "# 국민 연금 = 급여의 4.5%\n",
    "# 건강 보험 = 급여의 3.99%\n",
    "# 고용 보험 = 급여의 0.9%\n",
    "# 산재 보험 = 사업주가 지불함으로 0원 \n",
    "\n",
    "# 급여: 2500000 <- input\n",
    "# 국민 연금: 112,500 원\n",
    "# 건강 보험: 99,750 원\n",
    "# 고용 보험: 22,500 원\n",
    "# 산재 보험: 0 원\n",
    "# 총 공재금액: 234,750 원\n",
    "# 실수령액:: 2,265,250 원\n",
    "\n",
    "def calcMoney(money):\n",
    "  gukmin = int(money * 0.045)\n",
    "  gungang = int(money * 0.0399)\n",
    "  goyong = int(money * 0.009)\n",
    "  total = gukmin + gungang + goyong\n",
    "  realMoney = money - total\n",
    "  return gukmin, gungang, goyong, total, realMoney\n",
    "\n",
    "money = int(input(\"급여: \"))\n",
    "gukmin, gungang, goyong, total, realMoney = calcMoney(money)\n",
    "\n",
    "print(f'국민 연금: {format(gukmin, \",\")} 원')\n",
    "print(f'건강 보험: {format(gungang, \",\")} 원')\n",
    "print(f'고용 보험: {format(goyong, \",\")} 원')\n",
    "print(f'산재 보험: 0 원')\n",
    "print(f'총 공재금액: {format(total, \",\")} 원')\n",
    "print(f'실수령액: {format(realMoney, \",\")} 원')"
   ]
  }
 ],
 "metadata": {
  "kernelspec": {
   "display_name": "ai10",
   "language": "python",
   "name": "python3"
  },
  "language_info": {
   "codemirror_mode": {
    "name": "ipython",
    "version": 3
   },
   "file_extension": ".py",
   "mimetype": "text/x-python",
   "name": "python",
   "nbconvert_exporter": "python",
   "pygments_lexer": "ipython3",
   "version": "3.10.16"
  }
 },
 "nbformat": 4,
 "nbformat_minor": 2
}
