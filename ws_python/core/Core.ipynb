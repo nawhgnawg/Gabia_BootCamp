{
 "cells": [
  {
   "cell_type": "code",
   "execution_count": 3,
   "metadata": {},
   "outputs": [
    {
     "name": "stdout",
     "output_type": "stream",
     "text": [
      "6\n",
      "__name__ 시스템 변수: __main__\n",
      "6\n"
     ]
    }
   ],
   "source": [
    "# list 형태로 전달된 1차원 배열의 합을 구하여 리턴하는 함수\n",
    "# 배열의 합 산출\n",
    "def calc(data):  # calc함수는 데이터를 전달 받는다.\n",
    "    tot = 0  # tot 변수에 0을 할당한다.\n",
    "    for su in data:  # su에 데이터를 넣는다.\n",
    "        # print(su) # su를 출력한다.\n",
    "        tot = tot + su\n",
    "\n",
    "    return tot\n",
    "\n",
    "\n",
    "# 원룸의 크기 계산\n",
    "def oneroom(width, height):\n",
    "    # print('->', width, height)\n",
    "    jegob = width * height\n",
    "    pysu = jegob / 3.3\n",
    "\n",
    "    return jegob, pysu\n",
    "\n",
    "\n",
    "# 체질량지수(BMI) = (몸무게(kg) / 신장의 제곱) * 10000\n",
    "def calcbmi(weight, height):\n",
    "    bmi = (weight / (height ** 2)) * 10000\n",
    "\n",
    "    return bmi\n",
    "\n",
    "\n",
    "# 은행 이자 계산\n",
    "def calcija(wonkum):\n",
    "    ija = int(wonkum * 0.02)\n",
    "    mon = int(ija / 12)\n",
    "    day = int(ija / 365)\n",
    "    receive = int(day - day * 0.14)\n",
    "\n",
    "    return ija, mon, day, receive\n",
    "\n",
    "\n",
    "# 테스트\n",
    "# calc함수를 실행하고 나서 합계를 리턴받아 hap 변수에 저장한다.\n",
    "hap = calc([1,2,3]) # 배열 값 1, 2, 3을 calc 함수로 전달한다. calc 함수를 호출한다. calc함수 실행\n",
    "print(hap)\n",
    "\n",
    "print(f'__name__ 시스템 변수: {__name__}') # __name__ 시스템 변수\n",
    "# __name__: __main__  <- python Core.py 직접 실행\n",
    "# __name__: Core      <- CoreTest.ipynb import\n",
    "if __name__ == '__main__':  # python Core.py\n",
    "    hap = calc([1, 2, 3])  # 배열 값 1, 2, 3을 calc 함수로 전달한다. calc 함수를 호출한다. calc함수 실행\n",
    "    print(hap)"
   ]
  },
  {
   "cell_type": "code",
   "execution_count": null,
   "metadata": {},
   "outputs": [],
   "source": []
  },
  {
   "cell_type": "markdown",
   "metadata": {},
   "source": []
  }
 ],
 "metadata": {
  "kernelspec": {
   "display_name": "ai",
   "language": "python",
   "name": "python3"
  },
  "language_info": {
   "codemirror_mode": {
    "name": "ipython",
    "version": 3
   },
   "file_extension": ".py",
   "mimetype": "text/x-python",
   "name": "python",
   "nbconvert_exporter": "python",
   "pygments_lexer": "ipython3",
   "version": "3.11.11"
  }
 },
 "nbformat": 4,
 "nbformat_minor": 2
}
