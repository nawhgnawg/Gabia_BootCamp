{
 "cells": [
  {
   "cell_type": "code",
   "execution_count": null,
   "id": "4f89da39",
   "metadata": {},
   "outputs": [
    {
     "name": "stdout",
     "output_type": "stream",
     "text": [
      "<class 'dict'>\n",
      "왕눈이\n",
      "<class 'str'>\n",
      "--------------------------------------------------\n",
      "<class 'dict'>\n",
      "{'name': '왕눈이', 'age': 30, 'city': '서울'}\n",
      "<class 'str'>\n",
      "{\"name\": \"왕눈이\", \"age\": 30, \"city\": \"서울\"}\n"
     ]
    }
   ],
   "source": [
    "import json\n",
    "\n",
    "data = {\n",
    "  \"name\" : \"왕눈이\",\n",
    "  \"age\" : 30,\n",
    "  \"city\" : \"서울\"\n",
    "}\n",
    "\n",
    "data_str = '''{\n",
    "  \"name\" : \"왕눈이\",\n",
    "  \"age\" : 30,\n",
    "  \"city\" : \"서울\"\n",
    "}'''\n",
    "\n",
    "print(type(data))\n",
    "print(data['name'])\n",
    "print(type(data_str))\n",
    "\n",
    "print('-' * 50)\n",
    "\n",
    "str_To_dict = json.loads(data_str)  # str -> json, dict\n",
    "print(type(str_To_dict))\n",
    "print(str_To_dict)  # 한국어 그대로 나옴\n",
    "\n",
    "dict_To_str = json.dumps(data, ensure_ascii=False)    # dict -> 문자열\n",
    "print(type(dict_To_str))\n",
    "print(dict_To_str)  # ensure_ascii=False 를 해야 한글 지원이 된다."
   ]
  },
  {
   "cell_type": "code",
   "execution_count": null,
   "id": "fbfb752e",
   "metadata": {},
   "outputs": [
    {
     "name": "stdout",
     "output_type": "stream",
     "text": [
      "<class 'list'>\n",
      "[{'name': 'John', 'age': 30, 'city': 'New York'}, {'name': 'Alice', 'age': 25, 'city': 'San Francisco'}, {'name': 'Bob', 'age': 35, 'city': 'Los Angeles'}]\n",
      "<class 'str'>\n",
      "[{'name': 'John', 'age': 30, 'city': 'New York'}, {'name': 'Alice', 'age': 25, 'city': 'San Francisco'}, {'name': 'Bob', 'age': 35, 'city': 'Los Angeles'}]\n",
      "[{\"name\": \"John\", \"age\": 30, \"city\": \"New York\"}, {\"name\": \"Alice\", \"age\": 25, \"city\": \"San Francisco\"}, {\"name\": \"Bob\", \"age\": 35, \"city\": \"Los Angeles\"}]\n",
      "<class 'list'>\n",
      "[{'name': 'John', 'age': 30, 'city': 'New York'}, {'name': 'Alice', 'age': 25, 'city': 'San Francisco'}, {'name': 'Bob', 'age': 35, 'city': 'Los Angeles'}]\n"
     ]
    }
   ],
   "source": [
    "data_list = [\n",
    "  {\n",
    "    \"name\": \"John\",\n",
    "    \"age\": 30,\n",
    "    \"city\": \"New York\"\n",
    "  },\n",
    "  {\n",
    "    \"name\": \"Alice\",\n",
    "    \"age\": 25,\n",
    "    \"city\": \"San Francisco\"\n",
    "  },\n",
    "  {\n",
    "    \"name\": \"Bob\",\n",
    "    \"age\": 35,\n",
    "    \"city\": \"Los Angeles\"\n",
    "  }\n",
    "]\n",
    "\n",
    "print(type(data_list))  # list, json 객체 배열\n",
    "print(data_list)\n",
    "\n",
    "data_str = str(data_list)\n",
    "print(type(data_str))\n",
    "print(data_str)\n",
    "\n",
    "# 주의! - Javascript는 키와 문자열을 \"\"으로 표현해야 json 변경시 에러가 발생 안됨.\n",
    "data_str = data_str.replace(\"\\'\", \"\\\"\")\n",
    "print(data_str)\n",
    "\n",
    "data_json = json.loads(data_str)  # to json, str -> json\n",
    "print(type(data_json))\n",
    "print(data_json)  # 다시 \"\" 가 '' 로 바뀌었다...\n",
    "\n"
   ]
  },
  {
   "cell_type": "code",
   "execution_count": null,
   "id": "587ac16a",
   "metadata": {},
   "outputs": [
    {
     "name": "stdout",
     "output_type": "stream",
     "text": [
      "{\"name\": \"John\", \"age\": 30, \"address\": {\"street\": \"123 Main St\", \"city\": \"New York\"}, \"hobbies\": [\"reading\", \"painting\", \"traveling\"]}\n"
     ]
    }
   ],
   "source": [
    "# JSON 객체 안에 JSON 객체와 배열 생성 예제\n",
    "data = {\n",
    "    \"name\": \"John\",\n",
    "    \"age\": 30,\n",
    "    \"address\": {\n",
    "        \"street\": \"123 Main St\",\n",
    "        \"city\": \"New York\"\n",
    "    },\n",
    "    \"hobbies\": [\"reading\", \"painting\", \"traveling\"]\n",
    "}\n",
    "\n",
    "# JSON 객체를 문자열로 변환\n",
    "json_string = json.dumps(data) # dict -> 문자열\n",
    "print(json_string)  # 그래도 \"\" 으로 나온다."
   ]
  },
  {
   "cell_type": "code",
   "execution_count": 26,
   "id": "885b5719",
   "metadata": {},
   "outputs": [
    {
     "name": "stdout",
     "output_type": "stream",
     "text": [
      "New York\n",
      "123 Main St\n"
     ]
    }
   ],
   "source": [
    "# JSON 형식의 문자열 정의\n",
    "json_str = '''{\"name\": \"John\",\n",
    "               \"age\": 30,\n",
    "               \"address\": {\"street\": \"123 Main St\", \"city\": \"New York\"},\n",
    "               \"hobbies\": [\"reading\", \"painting\", \"traveling\"]\n",
    "           }'''\n",
    "\n",
    "# JSON 문자열을 Python 데이터로 파싱\n",
    "json_data = json.loads(json_str)\n",
    "\n",
    "# 'address' 객체에서 'city' 값을 추출하여 변수에 저장\n",
    "city_value = json_data['address']['city']\n",
    "street_value = json_data['address']['street']\n",
    "\n",
    "# 'city_value' 변수의 값을 출력\n",
    "print(city_value)\n",
    "print(street_value)"
   ]
  }
 ],
 "metadata": {
  "kernelspec": {
   "display_name": "ai",
   "language": "python",
   "name": "python3"
  },
  "language_info": {
   "codemirror_mode": {
    "name": "ipython",
    "version": 3
   },
   "file_extension": ".py",
   "mimetype": "text/x-python",
   "name": "python",
   "nbconvert_exporter": "python",
   "pygments_lexer": "ipython3",
   "version": "3.11.11"
  }
 },
 "nbformat": 4,
 "nbformat_minor": 5
}
